{
  "nbformat": 4,
  "nbformat_minor": 0,
  "metadata": {
    "colab": {
      "name": "AnhsTank.ipynb",
      "provenance": [],
      "authorship_tag": "ABX9TyMo+GvXYyIViFVoYrXfsXdZ",
      "include_colab_link": true
    },
    "kernelspec": {
      "name": "python3",
      "display_name": "Python 3"
    }
  },
  "cells": [
    {
      "cell_type": "markdown",
      "metadata": {
        "id": "view-in-github",
        "colab_type": "text"
      },
      "source": [
        "<a href=\"https://colab.research.google.com/github/AnhSTank/pythonbasics/blob/master/AnhsTank.ipynb\" target=\"_parent\"><img src=\"https://colab.research.google.com/assets/colab-badge.svg\" alt=\"Open In Colab\"/></a>"
      ]
    },
    {
      "cell_type": "markdown",
      "metadata": {
        "id": "_HA2RhiiUuyt"
      },
      "source": [
        "**Đây là bài tập đầu tiên**"
      ]
    },
    {
      "cell_type": "code",
      "metadata": {
        "id": "4YPz_atpUduh",
        "outputId": "2a01dd16-cf6e-4ba3-8b61-e6d13359ea2c",
        "colab": {
          "base_uri": "https://localhost:8080/"
        }
      },
      "source": [
        "print(\"Hello Github & Colab\")"
      ],
      "execution_count": 1,
      "outputs": [
        {
          "output_type": "stream",
          "text": [
            "Hello Github & Colab\n"
          ],
          "name": "stdout"
        }
      ]
    }
  ]
}