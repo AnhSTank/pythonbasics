{
  "nbformat": 4,
  "nbformat_minor": 0,
  "metadata": {
    "colab": {
      "name": "Baitap2.ipynb",
      "provenance": [],
      "authorship_tag": "ABX9TyPZd6S2Hsqp5A3+tPaL7K2M",
      "include_colab_link": true
    },
    "kernelspec": {
      "name": "python3",
      "display_name": "Python 3"
    }
  },
  "cells": [
    {
      "cell_type": "markdown",
      "metadata": {
        "id": "view-in-github",
        "colab_type": "text"
      },
      "source": [
        "<a href=\"https://colab.research.google.com/github/AnhSTank/pythonbasics/blob/master/Baitap2.ipynb\" target=\"_parent\"><img src=\"https://colab.research.google.com/assets/colab-badge.svg\" alt=\"Open In Colab\"/></a>"
      ]
    },
    {
      "cell_type": "markdown",
      "metadata": {
        "id": "GIDQcGZCdcRc"
      },
      "source": [
        "Bài 1: Lập trình nhập vào từ bàn phím 2 số nguyên và tính\n"
      ]
    },
    {
      "cell_type": "markdown",
      "metadata": {
        "id": "QiOEV0Ewj9AA"
      },
      "source": [
        "1. Tổng của 2 số"
      ]
    },
    {
      "cell_type": "code",
      "metadata": {
        "id": "xgsr9DMfbSwx",
        "outputId": "5edf0e8e-7ec3-4d9a-cd66-7b7af4a70618",
        "colab": {
          "base_uri": "https://localhost:8080/",
          "height": 67
        }
      },
      "source": [
        "a = input(\"a =\")\n",
        "b = input(\"b =\")\n",
        "a = int(a)\n",
        "b = int(b)\n",
        "c = a + b\n",
        "print(\"a + b =\", c)"
      ],
      "execution_count": 2,
      "outputs": [
        {
          "output_type": "stream",
          "text": [
            "a =5\n",
            "b =4\n",
            "a + b = 9\n"
          ],
          "name": "stdout"
        }
      ]
    },
    {
      "cell_type": "markdown",
      "metadata": {
        "id": "_XiIRSAwkBBk"
      },
      "source": [
        "2. Tích của 2 số"
      ]
    },
    {
      "cell_type": "code",
      "metadata": {
        "id": "UvPyjhYYdzvE",
        "outputId": "7b4f5d20-246a-4915-d62c-86aa560b261b",
        "colab": {
          "base_uri": "https://localhost:8080/",
          "height": 67
        }
      },
      "source": [
        "a = input(\"a =\")\n",
        "b = input(\"b =\")\n",
        "a= int(a)\n",
        "b= int(b)\n",
        "c= a * b\n",
        "print(\"a * b =\", c)"
      ],
      "execution_count": null,
      "outputs": [
        {
          "output_type": "stream",
          "text": [
            "a =4\n",
            "b =5\n",
            "a * b = 20\n"
          ],
          "name": "stdout"
        }
      ]
    },
    {
      "cell_type": "markdown",
      "metadata": {
        "id": "TLxGrk2QkaOZ"
      },
      "source": [
        "3. Hiệu của 2 số"
      ]
    },
    {
      "cell_type": "code",
      "metadata": {
        "id": "6dYU_aj0eiWF",
        "outputId": "977e5101-3c03-487e-b454-2baf48082353",
        "colab": {
          "base_uri": "https://localhost:8080/",
          "height": 67
        }
      },
      "source": [
        "a = input(\"a =\")\n",
        "b = input(\"b =\")\n",
        "a = int(a)\n",
        "b = int(b)\n",
        "c = a - b\n",
        "print(\"a - b =\", c)"
      ],
      "execution_count": null,
      "outputs": [
        {
          "output_type": "stream",
          "text": [
            "a =4\n",
            "b =5\n",
            "a - b = -1\n"
          ],
          "name": "stdout"
        }
      ]
    },
    {
      "cell_type": "markdown",
      "metadata": {
        "id": "6tobjjjnkMB6"
      },
      "source": [
        "4. Phép chia lấy phần dư của 2 số"
      ]
    },
    {
      "cell_type": "code",
      "metadata": {
        "id": "_4F8b_RifMe1",
        "outputId": "4be9959b-cc13-41d9-ad4a-f374483e8d04",
        "colab": {
          "base_uri": "https://localhost:8080/",
          "height": 67
        }
      },
      "source": [
        "a = input(\"a =\")\n",
        "b = input(\"b =\")\n",
        "a = int(a)\n",
        "b = int(b)\n",
        "c = a % b\n",
        "print(\"a / b =\", c)"
      ],
      "execution_count": null,
      "outputs": [
        {
          "output_type": "stream",
          "text": [
            "a =15\n",
            "b =6\n",
            "a / b = 3\n"
          ],
          "name": "stdout"
        }
      ]
    },
    {
      "cell_type": "markdown",
      "metadata": {
        "id": "K8hYCxHLklti"
      },
      "source": [
        "5. Phép chia lấy phần nguyên của 2 số"
      ]
    },
    {
      "cell_type": "code",
      "metadata": {
        "id": "dAgF_1DHhAbn",
        "outputId": "c57c8afc-0b41-4790-e431-4d644cdcee42",
        "colab": {
          "base_uri": "https://localhost:8080/",
          "height": 67
        }
      },
      "source": [
        "a = input(\"a =\")\n",
        "b = input(\"b =\")\n",
        "a = int(a)\n",
        "b = int(b)\n",
        "c = a // b\n",
        "print(\"a / b =\", c)"
      ],
      "execution_count": null,
      "outputs": [
        {
          "output_type": "stream",
          "text": [
            "a =15\n",
            "b =6\n",
            "a / b = 2\n"
          ],
          "name": "stdout"
        }
      ]
    },
    {
      "cell_type": "markdown",
      "metadata": {
        "id": "vAYcd4EAhhkT"
      },
      "source": [
        "Bài 2: Lập trình nhập vào từ bàn phím 2 số thực và tính:"
      ]
    },
    {
      "cell_type": "markdown",
      "metadata": {
        "id": "HEQ4QSyjkvYk"
      },
      "source": [
        "1. Tổng của 2 số"
      ]
    },
    {
      "cell_type": "code",
      "metadata": {
        "id": "I1MschImhlA2",
        "outputId": "a1174e58-91e3-407a-dc08-6ed48ee9bc1c",
        "colab": {
          "base_uri": "https://localhost:8080/",
          "height": 67
        }
      },
      "source": [
        "a = input(\"a =\")\n",
        "b = input(\"b =\")\n",
        "a = float(a)\n",
        "b = float(b)\n",
        "c = a + b\n",
        "print(\"a + b =\", c)"
      ],
      "execution_count": 3,
      "outputs": [
        {
          "output_type": "stream",
          "text": [
            "a =5.5\n",
            "b =4.6\n",
            "a + b = 10.1\n"
          ],
          "name": "stdout"
        }
      ]
    },
    {
      "cell_type": "markdown",
      "metadata": {
        "id": "RRTRRPA9Qn0A"
      },
      "source": [
        "2. Tích của 2 số"
      ]
    },
    {
      "cell_type": "code",
      "metadata": {
        "id": "4Io0Ul5eQzdP",
        "outputId": "bcea38f5-085c-4cd9-cf40-fb4068279bac",
        "colab": {
          "base_uri": "https://localhost:8080/",
          "height": 67
        }
      },
      "source": [
        "a = input(\"a =\")\n",
        "b = input(\"b =\")\n",
        "a = float(a)\n",
        "b = float(b)\n",
        "c = a * b\n",
        "print(\"a * b =\", c)"
      ],
      "execution_count": null,
      "outputs": [
        {
          "output_type": "stream",
          "text": [
            "a =5.3\n",
            "b =2.8\n",
            "a * b = 14.839999999999998\n"
          ],
          "name": "stdout"
        }
      ]
    },
    {
      "cell_type": "markdown",
      "metadata": {
        "id": "cFDtvb1-lDVJ"
      },
      "source": [
        "3. Hiệu của 2 số"
      ]
    },
    {
      "cell_type": "code",
      "metadata": {
        "id": "GSysllo1Qm99",
        "outputId": "21ad6fe3-2b78-42da-819d-2f01ac3f2dd2",
        "colab": {
          "base_uri": "https://localhost:8080/",
          "height": 67
        }
      },
      "source": [
        "a = input(\"a =\")\n",
        "b = input(\"b =\")\n",
        "a = float(a)\n",
        "b = float(b)\n",
        "c = a - b\n",
        "print(\"a - b =\", c)"
      ],
      "execution_count": 4,
      "outputs": [
        {
          "output_type": "stream",
          "text": [
            "a =7.9\n",
            "b =-3.5\n",
            "a - b = 11.4\n"
          ],
          "name": "stdout"
        }
      ]
    },
    {
      "cell_type": "markdown",
      "metadata": {
        "id": "YeRTLBoBQzwD"
      },
      "source": [
        "4. Thương của 2 số"
      ]
    },
    {
      "cell_type": "code",
      "metadata": {
        "id": "JVssIJJfQ-lR",
        "outputId": "c24cad85-5149-4ce2-9b11-1033952e0058",
        "colab": {
          "base_uri": "https://localhost:8080/",
          "height": 67
        }
      },
      "source": [
        "a = input(\"a =\")\n",
        "b = input(\"b =\")\n",
        "a = float(a)\n",
        "b = float(b)\n",
        "c = a / b\n",
        "print(\"a / b =\", c)"
      ],
      "execution_count": 6,
      "outputs": [
        {
          "output_type": "stream",
          "text": [
            "a =9.7\n",
            "b =1.5\n",
            "a / b = 6.466666666666666\n"
          ],
          "name": "stdout"
        }
      ]
    },
    {
      "cell_type": "markdown",
      "metadata": {
        "id": "GIEy7Ii5SLBj"
      },
      "source": [
        "Bài 3: (Sử dụng các hàm toán học) Nhập một số từ bàn phím và tính:"
      ]
    },
    {
      "cell_type": "markdown",
      "metadata": {
        "id": "0mSOG5b7oBKE"
      },
      "source": [
        "1. Trị tuyệt đối"
      ]
    },
    {
      "cell_type": "code",
      "metadata": {
        "id": "zwzzQbWASMVQ",
        "outputId": "a5ed72b1-c18e-4b6f-bc0c-5e0c31a44bc0",
        "colab": {
          "base_uri": "https://localhost:8080/",
          "height": 50
        }
      },
      "source": [
        "a = input(\"a =\")\n",
        "a = float(a)\n",
        "print(\"Giá trị tuyệt đối của\",a,\"là :\", abs(a))"
      ],
      "execution_count": 9,
      "outputs": [
        {
          "output_type": "stream",
          "text": [
            "a =-14\n",
            "Giá trị tuyệt đối của -14.0 là : 14.0\n"
          ],
          "name": "stdout"
        }
      ]
    },
    {
      "cell_type": "markdown",
      "metadata": {
        "id": "3vC3sKAqoPT6"
      },
      "source": [
        "2. Lấy phần nguyên của số"
      ]
    },
    {
      "cell_type": "code",
      "metadata": {
        "id": "5-Mq0alpTp_T",
        "outputId": "edf63650-17bd-431d-e8d4-25196ace0f33",
        "colab": {
          "base_uri": "https://localhost:8080/",
          "height": 50
        }
      },
      "source": [
        "import math\n",
        "a = input(\"a =\")\n",
        "a = float(a)\n",
        "print(\"Phần nguyên của a là :\",math.trunc(a))"
      ],
      "execution_count": 73,
      "outputs": [
        {
          "output_type": "stream",
          "text": [
            "a =14.7\n",
            "Phần nguyên của a là : 14\n"
          ],
          "name": "stdout"
        }
      ]
    },
    {
      "cell_type": "markdown",
      "metadata": {
        "id": "P_s-eTjDqnou"
      },
      "source": [
        "3. Chuyển đổi thành số thực"
      ]
    },
    {
      "cell_type": "code",
      "metadata": {
        "id": "lk5e9rdhTpj5",
        "outputId": "45f6d60b-bd1d-413b-dd93-9c06d52eb28c",
        "colab": {
          "base_uri": "https://localhost:8080/",
          "height": 50
        }
      },
      "source": [
        "a = input(\"a =\")\n",
        "a = float(a)\n",
        "print(a)\n"
      ],
      "execution_count": 87,
      "outputs": [
        {
          "output_type": "stream",
          "text": [
            "a =15.333333\n",
            "15.333333\n"
          ],
          "name": "stdout"
        }
      ]
    },
    {
      "cell_type": "markdown",
      "metadata": {
        "id": "Jcz9_PmCoE-K"
      },
      "source": [
        "4. (nhập thêm 1 số từ bàn phím) và tính lũy thừa $ x^y $"
      ]
    },
    {
      "cell_type": "code",
      "metadata": {
        "id": "feFdDn4JTFqK",
        "outputId": "6ea7f0bd-0424-4556-a074-93d38a0fd932",
        "colab": {
          "base_uri": "https://localhost:8080/",
          "height": 67
        }
      },
      "source": [
        "x = input(\"x =\")\n",
        "y = input(\"y =\")\n",
        "x = float(x)\n",
        "y = float(y)\n",
        "z = x**y\n",
        "print(\" x^y =\", z)"
      ],
      "execution_count": 10,
      "outputs": [
        {
          "output_type": "stream",
          "text": [
            "x =2\n",
            "y =3\n",
            " x^y = 8.0\n"
          ],
          "name": "stdout"
        }
      ]
    },
    {
      "cell_type": "markdown",
      "metadata": {
        "id": "vHr6OMl7rR9d"
      },
      "source": [
        "5. Tính căn bậc 2"
      ]
    },
    {
      "cell_type": "code",
      "metadata": {
        "id": "kFv0iVvyU4UC",
        "outputId": "25000954-6a61-42e0-b094-ce271c76cfb3",
        "colab": {
          "base_uri": "https://localhost:8080/",
          "height": 50
        }
      },
      "source": [
        "import math\n",
        "a = input(\"a =\")\n",
        "a = float(a)\n",
        "print(\" Căn bậc 2 của\",a,\"là :\",math.sqrt(a))"
      ],
      "execution_count": 78,
      "outputs": [
        {
          "output_type": "stream",
          "text": [
            "a =4\n",
            " Căn bậc 2 của 4.0 là : 2.0\n"
          ],
          "name": "stdout"
        }
      ]
    },
    {
      "cell_type": "markdown",
      "metadata": {
        "id": "nyYHUgPWXWS6"
      },
      "source": [
        "Bài 4: Nhập 2 số từ bàn phím và thực hiện các phép so sánh sau giữa 2 số:"
      ]
    },
    {
      "cell_type": "markdown",
      "metadata": {
        "id": "yLoLm621nc58"
      },
      "source": [
        "1. Lớn hơn hoặc bằng"
      ]
    },
    {
      "cell_type": "code",
      "metadata": {
        "id": "xehD708SXXmS",
        "outputId": "4d54eefb-afa2-4ede-d7fd-00db443d6bd3",
        "colab": {
          "base_uri": "https://localhost:8080/",
          "height": 67
        }
      },
      "source": [
        "a = input(\"a =\")\n",
        "b = input(\"b =\")\n",
        "a = float(a)\n",
        "b = float(b)\n",
        "print(a ,\">=\", b,\"is\",a>=b)"
      ],
      "execution_count": 20,
      "outputs": [
        {
          "output_type": "stream",
          "text": [
            "a =10\n",
            "b =14\n",
            "10.0 >= 14.0 is False\n"
          ],
          "name": "stdout"
        }
      ]
    },
    {
      "cell_type": "markdown",
      "metadata": {
        "id": "IXIBK7wMnWMY"
      },
      "source": [
        "2. Bé hơn hoặc bằng"
      ]
    },
    {
      "cell_type": "code",
      "metadata": {
        "id": "XuF30NLhbpi5",
        "outputId": "2f8feb53-0034-4346-e95f-65f9e12e8dd6",
        "colab": {
          "base_uri": "https://localhost:8080/",
          "height": 67
        }
      },
      "source": [
        "a = input(\"a =\")\n",
        "b = input(\"b =\")\n",
        "a = float(a)\n",
        "b = float(b)\n",
        "print(a,\"<=\",b,\"is\",a<=b)"
      ],
      "execution_count": 26,
      "outputs": [
        {
          "output_type": "stream",
          "text": [
            "a =10\n",
            "b =14\n",
            "10.0 <= 14.0 is True\n"
          ],
          "name": "stdout"
        }
      ]
    },
    {
      "cell_type": "markdown",
      "metadata": {
        "id": "si9GJh7Gng8z"
      },
      "source": [
        "3. Lớn hơn"
      ]
    },
    {
      "cell_type": "code",
      "metadata": {
        "id": "OzKSWqdcb0uK",
        "outputId": "c1064cd5-fb40-4a89-eb79-94b171621e06",
        "colab": {
          "base_uri": "https://localhost:8080/",
          "height": 67
        }
      },
      "source": [
        "a = input(\"a =\")\n",
        "b = input(\"b =\")\n",
        "a = float(a)\n",
        "b = float(b)\n",
        "print(a,\">\",b,\"is\",a>b)"
      ],
      "execution_count": 28,
      "outputs": [
        {
          "output_type": "stream",
          "text": [
            "a =10\n",
            "b =14\n",
            "10.0 > 14.0 is False\n"
          ],
          "name": "stdout"
        }
      ]
    },
    {
      "cell_type": "markdown",
      "metadata": {
        "id": "O2zeM4BinjrB"
      },
      "source": [
        "4. Bé hơn"
      ]
    },
    {
      "cell_type": "code",
      "metadata": {
        "id": "Wyf2xQQzcMIY",
        "outputId": "2027b755-0f00-43b3-c99d-7c2240f9f5e1",
        "colab": {
          "base_uri": "https://localhost:8080/",
          "height": 67
        }
      },
      "source": [
        "a = input(\"a =\")\n",
        "b = input(\"b =\")\n",
        "a = float(a)\n",
        "b = float(b)\n",
        "print(a ,\"<\", b,\"is\",a<b)"
      ],
      "execution_count": 24,
      "outputs": [
        {
          "output_type": "stream",
          "text": [
            "a =10\n",
            "b =14\n",
            "10.0 < 14.0 is True\n"
          ],
          "name": "stdout"
        }
      ]
    },
    {
      "cell_type": "markdown",
      "metadata": {
        "id": "Uabew5vPnliy"
      },
      "source": [
        "5. Khác nhau"
      ]
    },
    {
      "cell_type": "code",
      "metadata": {
        "id": "Vkbpeehydhmc",
        "outputId": "fa6be384-26ea-4917-cada-36eca13d71f5",
        "colab": {
          "base_uri": "https://localhost:8080/",
          "height": 67
        }
      },
      "source": [
        "a = input(\"a =\")\n",
        "b = input(\"b =\")\n",
        "a = float(a)\n",
        "b = float(b)\n",
        "print(a,\"!=\",b,\"is\",a!=b)"
      ],
      "execution_count": 32,
      "outputs": [
        {
          "output_type": "stream",
          "text": [
            "a =10\n",
            "b =14\n",
            "10.0 != 14.0 is True\n"
          ],
          "name": "stdout"
        }
      ]
    },
    {
      "cell_type": "markdown",
      "metadata": {
        "id": "qlUZrNFgeOoj"
      },
      "source": [
        "Bài 5: Nhập 1 chuỗi ký tự từ bàn phím:"
      ]
    },
    {
      "cell_type": "markdown",
      "metadata": {
        "id": "rbNGj9cSm-qy"
      },
      "source": [
        "1. Chuyển thành chuỗi in hoa"
      ]
    },
    {
      "cell_type": "code",
      "metadata": {
        "id": "oNC1o8AVeP9C",
        "outputId": "383509a2-0eeb-4934-d4ea-b07e3ac25717",
        "colab": {
          "base_uri": "https://localhost:8080/",
          "height": 50
        }
      },
      "source": [
        "a = input(\"Nhập chuỗi kí tự : \")\n",
        "a = str(a)\n",
        "print( \"Chuyển thành chuỗi in hoa :\" ,a.upper())"
      ],
      "execution_count": 50,
      "outputs": [
        {
          "output_type": "stream",
          "text": [
            "Nhập chuỗi kí tự : may gan het pin roi\n",
            "Chuyển thành chuỗi in hoa : MAY GAN HET PIN ROI\n"
          ],
          "name": "stdout"
        }
      ]
    },
    {
      "cell_type": "markdown",
      "metadata": {
        "id": "3ezsLufmnCnA"
      },
      "source": [
        "2. Chuyển thành chuỗi in thường"
      ]
    },
    {
      "cell_type": "code",
      "metadata": {
        "id": "Uy-JBhJThMVm",
        "outputId": "93dd216d-5813-481f-9a34-a83dbce41006",
        "colab": {
          "base_uri": "https://localhost:8080/",
          "height": 50
        }
      },
      "source": [
        "a = input(\"Nhập chuỗi kí tự : \")\n",
        "a = str(a)\n",
        "print( \"Chuyển thành chuỗi in thường :\",a.lower())"
      ],
      "execution_count": 48,
      "outputs": [
        {
          "output_type": "stream",
          "text": [
            "Nhập chuỗi kí tự : MAY GAN HET PIN ROI\n",
            "Chuyển thành chuỗi in thường : may gan het pin roi\n"
          ],
          "name": "stdout"
        }
      ]
    },
    {
      "cell_type": "markdown",
      "metadata": {
        "id": "BZSIcfV1jCJM"
      },
      "source": [
        "Bài 6: Xuất ra màn hình 1 chuỗi ký từ nằm trên nhiều hàng (có thể là 1 bài thơ tùy ý bạn lựa chọn)"
      ]
    },
    {
      "cell_type": "code",
      "metadata": {
        "id": "c_SxGWVajDca",
        "outputId": "d2efd6e4-cfca-4784-f7b8-52f89abae2b4",
        "colab": {
          "base_uri": "https://localhost:8080/",
          "height": 101
        }
      },
      "source": [
        "a = \"\"\"\n",
        "1. Không hệ thống nào an toàn\n",
        "2. Tấn công vào cái không thể\n",
        "3. Tận hưởng cả thực và ảo\n",
        "\"\"\"\n",
        "print(a)"
      ],
      "execution_count": 56,
      "outputs": [
        {
          "output_type": "stream",
          "text": [
            "\n",
            "1. Không hệ thống nào an toàn\n",
            "2. Tấn công vào cái không thể\n",
            "3. Tận hưởng cả thực và ảo\n",
            "\n"
          ],
          "name": "stdout"
        }
      ]
    }
  ]
}