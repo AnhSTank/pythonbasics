{
  "nbformat": 4,
  "nbformat_minor": 0,
  "metadata": {
    "kernelspec": {
      "display_name": "Python 3",
      "language": "python",
      "name": "python3"
    },
    "language_info": {
      "codemirror_mode": {
        "name": "ipython",
        "version": 3
      },
      "file_extension": ".py",
      "mimetype": "text/x-python",
      "name": "python",
      "nbconvert_exporter": "python",
      "pygments_lexer": "ipython3",
      "version": "3.7.3"
    },
    "colab": {
      "name": "bai-tap-sinh-mau-ngau-nhien.ipynb",
      "provenance": [],
      "include_colab_link": true
    }
  },
  "cells": [
    {
      "cell_type": "markdown",
      "metadata": {
        "id": "view-in-github",
        "colab_type": "text"
      },
      "source": [
        "<a href=\"https://colab.research.google.com/github/AnhSTank/pythonbasics/blob/master/bai_tap_sinh_mau_ngau_nhien.ipynb\" target=\"_parent\"><img src=\"https://colab.research.google.com/assets/colab-badge.svg\" alt=\"Open In Colab\"/></a>"
      ]
    },
    {
      "cell_type": "markdown",
      "metadata": {
        "id": "TadlxYV-X3Sh"
      },
      "source": [
        "Sử dụng thư viện Numpy\n",
        "\n",
        "1. Sinh mẫu ngẫu nhiên bằng hàm arange trong khoảng [-15, 27] với khoảng cách là 0.7 và in kết quả ra màn hình"
      ]
    },
    {
      "cell_type": "code",
      "metadata": {
        "id": "kSSPfCXaX3Sm",
        "colab": {
          "base_uri": "https://localhost:8080/"
        },
        "outputId": "be0fa9bc-5c6c-4fbd-8d10-8719129917fd"
      },
      "source": [
        "import numpy as np\n",
        "np.random.seed(1234)\n",
        "ktr1 = np.arange(-15,27,0.7)\n",
        "print(ktr1)"
      ],
      "execution_count": null,
      "outputs": [
        {
          "output_type": "stream",
          "text": [
            "[-15.  -14.3 -13.6 -12.9 -12.2 -11.5 -10.8 -10.1  -9.4  -8.7  -8.   -7.3\n",
            "  -6.6  -5.9  -5.2  -4.5  -3.8  -3.1  -2.4  -1.7  -1.   -0.3   0.4   1.1\n",
            "   1.8   2.5   3.2   3.9   4.6   5.3   6.    6.7   7.4   8.1   8.8   9.5\n",
            "  10.2  10.9  11.6  12.3  13.   13.7  14.4  15.1  15.8  16.5  17.2  17.9\n",
            "  18.6  19.3  20.   20.7  21.4  22.1  22.8  23.5  24.2  24.9  25.6  26.3\n",
            "  27. ]\n"
          ],
          "name": "stdout"
        }
      ]
    },
    {
      "cell_type": "markdown",
      "metadata": {
        "id": "ggUy8O19X3Sm"
      },
      "source": [
        "2. Sinh mẫu ngẫu nhiên theo phân phối chuẩn với mean = 2.7 std = 1.2 và size = 40\n",
        "In kết quả ra màn hình"
      ]
    },
    {
      "cell_type": "code",
      "metadata": {
        "id": "xznGfWecX3Sn",
        "colab": {
          "base_uri": "https://localhost:8080/"
        },
        "outputId": "3df0f213-81db-4f15-c453-b1390e403aef"
      },
      "source": [
        "from scipy import stats\n",
        "np.random.seed(1234)\n",
        "ktr2 = stats.norm.rvs(loc = 2.7, scale = 1.2, size = 40)\n",
        "print(ktr2[:10])"
      ],
      "execution_count": null,
      "outputs": [
        {
          "output_type": "stream",
          "text": [
            "[3.2657222  1.27082917 4.41924836 2.32481772 1.83529352 3.76459553\n",
            " 3.7315061  1.93617179 2.71883565 0.00877805]\n"
          ],
          "name": "stdout"
        }
      ]
    },
    {
      "cell_type": "markdown",
      "metadata": {
        "id": "QsPg3mMHX3Sn"
      },
      "source": [
        "3. Sinh mẫu ngẫu nhiên từ vector ['Viet Nam', 'Britain', 'France', 'Russia', 'Singapore'] \n",
        "\n",
        "với kích thước là 17 theo phân phối chuẩn"
      ]
    },
    {
      "cell_type": "code",
      "metadata": {
        "id": "55hrPKFNX3Sn",
        "colab": {
          "base_uri": "https://localhost:8080/"
        },
        "outputId": "a8fcb71c-b648-4c08-dcff-9a8013fefdbd"
      },
      "source": [
        "ktr3 = np.random.choice(['Viet Nam', 'Britain', 'France', 'Russia','Singapore'], 17)\n",
        "print(ktr3)"
      ],
      "execution_count": null,
      "outputs": [
        {
          "output_type": "stream",
          "text": [
            "['Britain' 'France' 'France' 'Singapore' 'Russia' 'Singapore' 'France'\n",
            " 'France' 'Singapore' 'Singapore' 'France' 'Britain' 'Russia' 'France'\n",
            " 'Britain' 'Singapore' 'Britain']\n"
          ],
          "name": "stdout"
        }
      ]
    },
    {
      "cell_type": "markdown",
      "metadata": {
        "id": "sI5P7KDMX3So"
      },
      "source": [
        "4. Sinh mẫu ngẫu nhiên ở câu 3 nhưng không theo phân phối chuẩn mà theo 1 vector đặc tả giá trị xác suất do bạn chọn"
      ]
    },
    {
      "cell_type": "code",
      "metadata": {
        "id": "jA7j5F6EX3So",
        "colab": {
          "base_uri": "https://localhost:8080/"
        },
        "outputId": "f368766d-a421-4b54-f8be-5d88bf550067"
      },
      "source": [
        "ktr4 = np.random.choice(['Viet Nam', 'Britain', 'France', 'Russia','Singapore'], 5, p = [0.1, 0.3, 0.2, 0.3,0.1])\n",
        "print(ktr4)"
      ],
      "execution_count": null,
      "outputs": [
        {
          "output_type": "stream",
          "text": [
            "['Russia' 'Russia' 'Britain' 'Britain' 'Russia']\n"
          ],
          "name": "stdout"
        }
      ]
    },
    {
      "cell_type": "markdown",
      "metadata": {
        "id": "i04aMEwHX3So"
      },
      "source": [
        "Sử dụng thư việc scipy.stats để sinh mẫu ngẫu nhiên\n",
        "\n",
        "1. Sinh mẫu ngẫu nhiên theo phân phối chuẩn với mean = 12.7, std = 2.6 và size = 30. In kết quả ra màn hình"
      ]
    },
    {
      "cell_type": "code",
      "metadata": {
        "id": "JmOTZ6xzX3So",
        "colab": {
          "base_uri": "https://localhost:8080/"
        },
        "outputId": "0071e780-8269-46c3-ddce-c338196e1c98"
      },
      "source": [
        "from scipy import stats\n",
        "ktr5 = stats.norm.rvs(loc = 12.7, scale = 2.6, size = 30)\n",
        "print(ktr5[:10])"
      ],
      "execution_count": null,
      "outputs": [
        {
          "output_type": "stream",
          "text": [
            "[13.56467149 14.65113775  9.89404832 11.06689991 13.4783023  13.03092081\n",
            " 15.10809392 19.08362368 11.86568557 11.8897707 ]\n"
          ],
          "name": "stdout"
        }
      ]
    },
    {
      "cell_type": "markdown",
      "metadata": {
        "id": "0-oMC2cjX3So"
      },
      "source": [
        "2. Hãy sinh một mẫu ngẫu nhiên theo phân phối Poisson"
      ]
    },
    {
      "cell_type": "code",
      "metadata": {
        "id": "7TdLjOrVX3Sp",
        "colab": {
          "base_uri": "https://localhost:8080/"
        },
        "outputId": "aa5b8867-2eeb-4caa-fc3f-e1b9d3ee0c31"
      },
      "source": [
        "from scipy import stats\n",
        "ktr6 = stats.poisson.rvs(loc=18,\n",
        "                              mu=30,\n",
        "                              size=1000)\n",
        "print(ktr6[:10])"
      ],
      "execution_count": 8,
      "outputs": [
        {
          "output_type": "stream",
          "text": [
            "[48 51 55 51 54 48 50 53 33 47]\n"
          ],
          "name": "stdout"
        }
      ]
    },
    {
      "cell_type": "code",
      "metadata": {
        "id": "GmUwpAeRX3Sp",
        "outputId": "125b6f6d-58da-4a7c-9e11-b501eebcda00",
        "colab": {
          "base_uri": "https://localhost:8080/"
        }
      },
      "source": [
        "from scipy import stats\n",
        "ktr7 = stats.poisson.rvs(loc=14,\n",
        "                              mu=30,\n",
        "                              size=1000)\n",
        "print(ktr7[:10])"
      ],
      "execution_count": 1,
      "outputs": [
        {
          "output_type": "stream",
          "text": [
            "[42 50 48 47 50 44 48 45 45 52]\n"
          ],
          "name": "stdout"
        }
      ]
    }
  ]
}